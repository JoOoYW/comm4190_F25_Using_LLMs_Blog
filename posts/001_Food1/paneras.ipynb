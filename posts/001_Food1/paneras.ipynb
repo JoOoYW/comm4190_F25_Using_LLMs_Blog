{
 "cells": [
  {
   "cell_type": "raw",
   "id": "bc9a3720-ba41-45a9-9161-4c5b2ea1b336",
   "metadata": {},
   "source": [
    "---\n",
    "title: \"Panera's Mac and Cheese\" \n",
    "description: \"The best mac and cheese I have ever had, save for the one I had whhen I was in Canada.\"\n",
    "author: \"Joy\"\n",
    "date: \"3 September 2025\"\n",
    "categories: \n",
    "    - Food\n",
    "---"
   ]
  },
  {
   "cell_type": "markdown",
   "id": "3dde8a9f-e5d2-451a-9dd1-02c033c6f4dd",
   "metadata": {},
   "source": [
    "## Trying Panera's very popular mac and cheese in a bread bowl!\n",
    "\n",
    "### Welcome to foodie rating, where I go around and try out all kinds of food\n",
    "\n",
    "First up, a popular chain that began in 1987 as St. Louis Bread Company, a humble community bakery founded with a sourdough starter from San Francisco and a dream of putting a loaf of bread in every arm. Now, it operates as both Panera Bread® or Saint Louis Bread Co St. Louis Bread Company in 48 states, the District of Columbia and Canada!"
   ]
  },
  {
   "cell_type": "raw",
   "id": "4b320cb4-6634-41ef-a32d-6665c573904e",
   "metadata": {},
   "source": [
    "![Panera\\'s Mac and Cheese Bread Bowl](panera_mac_cheese.jpg)"
   ]
  },
  {
   "cell_type": "markdown",
   "id": "2fed7c0d-79b7-4ba5-825c-706db17b281e",
   "metadata": {},
   "source": [
    "A fan favorite across the board (save for the people who are lactose intolerant). One of my favorite meals to eat when at Panera Bread and overall a ten across the board. Not only does it come with a great vehicle for the sauce, but the taste is phenomenal. In addition, the baguettes they make are impeccable and very delicious. The closest Panera Bread for UPenn students is located at 200 South 40th St, Philadelphia, PA 19104 across from the Acme. "
   ]
  },
  {
   "cell_type": "markdown",
   "id": "8d75f4ff-21df-4abd-8935-6dc8ad9d15d9",
   "metadata": {},
   "source": [
    "#### My Rating: <span style='color:#ffd2fb'> 9.4/10 </span>"
   ]
  }
 ],
 "metadata": {
  "kernelspec": {
   "display_name": "Python 3-12 (COMM4190)",
   "language": "python",
   "name": "python3-12_comm4190"
  },
  "language_info": {
   "codemirror_mode": {
    "name": "ipython",
    "version": 3
   },
   "file_extension": ".py",
   "mimetype": "text/x-python",
   "name": "python",
   "nbconvert_exporter": "python",
   "pygments_lexer": "ipython3",
   "version": "3.12.11"
  }
 },
 "nbformat": 4,
 "nbformat_minor": 5
}
