{
 "cells": [
  {
   "cell_type": "raw",
   "id": "dfe7b873-1bf3-49d7-bc48-b3714a322f4f",
   "metadata": {},
   "source": [
    "---\n",
    "author: \"Joy Wang\"\n",
    "decription: \"\"Why Machines Learn: The Elegant Math Behind Modern AI\" By Anil Ananthaswamy\"\n",
    "title: \"Living With My Book, Part 1\"\n",
    "date: \"14 September 2025\"\n",
    "categories: \n",
    "    - Learning\n",
    "    - AI\n",
    "    - Math\n",
    "    - Book\n",
    "---"
   ]
  },
  {
   "cell_type": "markdown",
   "id": "e51906cf-3cf9-49b4-b0f4-f42259d1d4c7",
   "metadata": {},
   "source": [
    "## My first experience with Anathaswamy's book about the math and logic behind AI"
   ]
  },
  {
   "cell_type": "code",
   "execution_count": null,
   "id": "20524e0d-30da-4016-9a37-5d81253df5c8",
   "metadata": {},
   "outputs": [],
   "source": []
  }
 ],
 "metadata": {
  "kernelspec": {
   "display_name": "Python 3 (ipykernel)",
   "language": "python",
   "name": "python3"
  },
  "language_info": {
   "codemirror_mode": {
    "name": "ipython",
    "version": 3
   },
   "file_extension": ".py",
   "mimetype": "text/x-python",
   "name": "python",
   "nbconvert_exporter": "python",
   "pygments_lexer": "ipython3",
   "version": "3.10.12"
  }
 },
 "nbformat": 4,
 "nbformat_minor": 5
}
