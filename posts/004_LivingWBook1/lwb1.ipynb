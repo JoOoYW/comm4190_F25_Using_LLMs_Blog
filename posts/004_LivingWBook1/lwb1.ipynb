{
 "cells": [
  {
   "cell_type": "raw",
   "id": "dfe7b873-1bf3-49d7-bc48-b3714a322f4f",
   "metadata": {},
   "source": [
    "---\n",
    "author: \"Joy Wang\"\n",
    "decription: \"'Why Machines Learn: The Elegant Math Behind Modern AI' By Anil Ananthaswamy\"\n",
    "title: \"Living With My Book, Part 1\"\n",
    "date: \"14 September 2025\"\n",
    "categories: \n",
    "    - Learning\n",
    "    - AI\n",
    "    - Math\n",
    "    - Book\n",
    "---"
   ]
  },
  {
   "cell_type": "markdown",
   "id": "e51906cf-3cf9-49b4-b0f4-f42259d1d4c7",
   "metadata": {},
   "source": [
    "## My first experience with Ananthaswamy's book about the math and logic behind AI"
   ]
  },
  {
   "cell_type": "markdown",
   "id": "c050b395-5514-4a5e-8d58-182c58a9ca09",
   "metadata": {},
   "source": [
    "Written as a narrative explanation of the mathematics that has brought us machine learning and the ongoing explosion of artificial intelligence, Ananthaswamy "
   ]
  },
  {
   "cell_type": "raw",
   "id": "543dd1a5-2f56-4ecd-abcd-cecb7258e1bb",
   "metadata": {},
   "source": [
    "![Ananthaswamy's \"Why Machines Learn\"](aibook.jpg)"
   ]
  }
 ],
 "metadata": {
  "kernelspec": {
   "display_name": "Python 3 (ipykernel)",
   "language": "python",
   "name": "python3"
  },
  "language_info": {
   "codemirror_mode": {
    "name": "ipython",
    "version": 3
   },
   "file_extension": ".py",
   "mimetype": "text/x-python",
   "name": "python",
   "nbconvert_exporter": "python",
   "pygments_lexer": "ipython3",
   "version": "3.10.12"
  }
 },
 "nbformat": 4,
 "nbformat_minor": 5
}
