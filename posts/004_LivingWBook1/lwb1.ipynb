{
 "cells": [
  {
   "cell_type": "raw",
   "id": "dfe7b873-1bf3-49d7-bc48-b3714a322f4f",
   "metadata": {},
   "source": [
    "---\n",
    "author: \"Joy Wang\"\n",
    "description: \"'Why Machines Learn: The Elegant Math Behind Modern AI' By Anil Ananthaswamy\"\n",
    "title: \"Living With My Book, Part 1\"\n",
    "date: \"14 September 2025\"\n",
    "categories: \n",
    "    - Learning\n",
    "    - AI\n",
    "    - Math\n",
    "    - Book\n",
    "---"
   ]
  },
  {
   "cell_type": "markdown",
   "id": "e51906cf-3cf9-49b4-b0f4-f42259d1d4c7",
   "metadata": {},
   "source": [
    "## My first experience with Ananthaswamy's book about the math and logic behind AI"
   ]
  },
  {
   "cell_type": "markdown",
   "id": "db9cf558-5e63-4018-ab0d-8a86007a73a7",
   "metadata": {},
   "source": [
    "Written as a narrative explanation of the mathematics that has brought us machine learning (ML) and the ongoing explosion of artificial intelligence (AI), Ananthaswamy gives insight on the capabilities and limitations that come with such technology. ML systems are making what essentially are life-altering decisions for us, determining whether or not a tumor is benign, deciding if someone gets bail, or approving mortgages. They even seep into academic areas now with discoveries in chemistry, biology, extrsolar planets, and even qunatum systems. But one thing to not, though, is that this was all before large language models (LLMs) such as ChatGPT became popular. "
   ]
  },
  {
   "cell_type": "raw",
   "id": "543dd1a5-2f56-4ecd-abcd-cecb7258e1bb",
   "metadata": {},
   "source": [
    "![Ananthaswamy's \"Why Machines Learn\"](aibook.jpg)"
   ]
  },
  {
   "cell_type": "markdown",
   "id": "21c26635-adea-41b7-980e-bb4e4670d8b7",
   "metadata": {},
   "source": [
    "This technology is based on relatively simple mathematical ideas, some of which go back centuries like linear algebra and calculus It took the birth and advancement of computer science and the use of 1990s computer chips designed for video games to unfurl the interest in the AI that we see today. And as Ananthaswamy puts it, \"**We are living through a revolution in machine learning-powered AI that shows no signs of slowing down**\"."
   ]
  }
 ],
 "metadata": {
  "kernelspec": {
   "display_name": "Python 3 (ipykernel)",
   "language": "python",
   "name": "python3"
  },
  "language_info": {
   "codemirror_mode": {
    "name": "ipython",
    "version": 3
   },
   "file_extension": ".py",
   "mimetype": "text/x-python",
   "name": "python",
   "nbconvert_exporter": "python",
   "pygments_lexer": "ipython3",
   "version": "3.10.12"
  }
 },
 "nbformat": 4,
 "nbformat_minor": 5
}
