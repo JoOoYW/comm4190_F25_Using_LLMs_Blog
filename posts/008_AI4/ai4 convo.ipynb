{
 "cells": [
  {
   "cell_type": "raw",
   "id": "d307d0cd-0e29-449b-a633-3efb33cd8c06",
   "metadata": {},
   "source": [
    "---\n",
    "author: \"Joy Wang\" \n",
    "title: \"The Arrogance and Hubris of Man Replicated\"\n",
    "description: \"Humankind are notorious for their flaws and lack of humility in a lot of situations. And since AI is trained on information from us, will it take on an ego?\"\n",
    "date: \"7 October 2025\"\n",
    "categories: \n",
    "    - AI\n",
    "    - Testing \n",
    "    - Chatbots\n",
    "---"
   ]
  },
  {
   "cell_type": "markdown",
   "id": "84fbad3a-38fa-4906-a09e-fd03b4dabf1e",
   "metadata": {},
   "source": [
    "Every culture around the world has at least one story depicting the ruin of man because of themselves. In Greek mythology, Icarus and Arachne come to mind. In ancient chinese mythology, Kua Fu who chased the sun and the Monkey King come to mind. In hindu mythology, it's Ravana who lost at the hands of Lord Rama. "
   ]
  },
  {
   "cell_type": "raw",
   "id": "cd9bf37f-c6ac-4062-99ec-88bd33551394",
   "metadata": {},
   "source": [
    "![Bellerophon & Pegasus](bellerophon.png)"
   ]
  },
  {
   "cell_type": "code",
   "execution_count": null,
   "id": "0761171e-f9f9-453d-a6f4-7541486b63d1",
   "metadata": {},
   "outputs": [],
   "source": []
  }
 ],
 "metadata": {
  "kernelspec": {
   "display_name": "R (COMM2100)",
   "language": "R",
   "name": "r"
  },
  "language_info": {
   "codemirror_mode": "r",
   "file_extension": ".r",
   "mimetype": "text/x-r-source",
   "name": "R",
   "pygments_lexer": "r",
   "version": "4.5.1"
  }
 },
 "nbformat": 4,
 "nbformat_minor": 5
}
