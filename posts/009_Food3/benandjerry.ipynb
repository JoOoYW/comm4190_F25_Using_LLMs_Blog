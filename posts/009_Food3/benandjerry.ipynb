{
 "cells": [
  {
   "cell_type": "raw",
   "id": "bae9d9d4-b279-40c1-b2f8-7650e54a80a8",
   "metadata": {},
   "source": [
    "---\n",
    "author: \"Joy Wang\" \n",
    "title: \"98 Flavors: What Opinions do AI Hold?\"\n",
    "description: \"Ben & Jerry's, a popular ice cream chain that started in 1987 from humble beginnings has many flavors liked by many, and sometimes few. But which one is an AI's favorite?\"\n",
    "date: \"4 October 2025\" \n",
    "categories: \n",
    "    - AI\n",
    "    - Food\n",
    "    - Chatbots\n",
    "---"
   ]
  },
  {
   "cell_type": "markdown",
   "id": "962b4dad-1607-4b2f-860c-f5548eababdf",
   "metadata": {},
   "source": [
    "Ben and Jerry's started in a renovated gas station in Burlington, Vermont, using what they knew from the one $5 ice cream course they took at Penn State. Today, they have about 100 flavors churning away to reach everyone and anyone. Me personally, I like **Strawberry Cheesecake** and **Mud Cake**. The crunchy bits and ice cream flavor give it such an amazing texture and taste that I just can never get enough of them. I absolutely detest when the toppings are soggy, like **Americone Dream**. But what does ChatGPT think about all of these flavors?"
   ]
  },
  {
   "cell_type": "raw",
   "id": "85e39233-5ea4-4c8b-9af6-5cbb7ebba4da",
   "metadata": {},
   "source": [
    "![Founders Ben and Jerry](founders.png)"
   ]
  },
  {
   "cell_type": "markdown",
   "id": "71ed98cd-3493-4611-b08f-fa99cb3f574c",
   "metadata": {},
   "source": [
    "### Ranking \n",
    "\n",
    "To start off, I wanted to see what kind of ranking ChatGPT would create. It prefaced that \"ranking all Ben & Jerry's flavors is a fun but subjective task\" as people have all kinds of preferences that would of course impavt what it pulls. Nonetheless, the top 10 flavors it spat out was as follows: <br>\n",
    "1. Half Baked <br>\n",
    "2. The Tonight Dough <br>\n",
    "3. Chocolate Chip Cookie Dough <br>\n",
    "4. Cherry Garcia <br>\n",
    "5. Phish Food <br>\n",
    "6. Americone Dream <br>\n",
    "7. Peanut Butter Cup <br>\n",
    "8. Netflix and Chill'd <br>\n",
    "9. Strawberry Cheesecake <br>\n",
    "10. New York Super Fudge Chunk <br>\n",
    "\n",
    "And like most lists, there are some honorable mentions that fell just a bit short, such as Gimme S'more!, Salted Caramel Core, and Chunky Monkey. "
   ]
  },
  {
   "cell_type": "markdown",
   "id": "34ba43a5-2ac8-44a9-b106-86cde302d098",
   "metadata": {},
   "source": [
    "### Best and Worst Flavors\n",
    "\n",
    "I then wanted to see what flavor ChatGPT liked the most where after it considered flavor balance, texture, originality, and pure indulgence, it decided **The Tonight Dough** was it's favorite. The reasoning? It has caramel, chocolate ice cream, cookie dough, chocolate cookie swirls, and peanut butter cookie dough! A little something for everyone in my opinion. And when asked about the worst flavor, it chose a discontinued flavor in many areas, **Banana Split**. It seems as though the banana ice cream base was either too artificial tasting or overpowering and that unlike all of the mix-ins in **The Tonight Dough**, the ones in **Banana Split** just had too much going on. There were fudge chunks, walnuts, cherries, and strawberries that  fell flat when trying to replicate the taste of a banana split. One thing to note is that the flavor **Sugar Plum** was also considered as the worst. "
   ]
  },
  {
   "cell_type": "raw",
   "id": "c13c02c4-6660-4a2e-8987-2423e3be8e5f",
   "metadata": {},
   "source": [
    "![Best Flavor: The Tonight Dough](tonight dough (1).png) ![Worst Flavor: Banana Split](banana split (1).png)"
   ]
  },
  {
   "cell_type": "markdown",
   "id": "be41a80b-31f0-41fe-b59c-1e268b5930bd",
   "metadata": {},
   "source": [
    "### A New Flavor? \n",
    "\n",
    "The last thing I wanted to see was if ChatGPT could come up with a new flavor. In my mind, cannot create anything new. Everything is either regurgitated information from a single source or an attempt to combine and link multiples sources from every inch of the internet. I was, however, impressed that ChatGPT designed somewhat of a new flavor. It came up with: \n",
    "\n",
    "#### 🍰🔥 \"**Midnight Bake**\"\n",
    "A celebration of warm homemade treats with a gooey, salty-sweet twist.\n",
    "\n",
    "#### 🥄 **Flavor Profile**:\n",
    "Base: Toasted brown sugar ice cream 🍯 (like a warm cookie straight from the oven)\n",
    "Mix-ins:\n",
    "Chunks of molten fudge brownies 🍫 <br>\n",
    "Swirls of salted caramel 🧂 <br>\n",
    "Pieces of browned butter blondie dough 🍪<br>\n",
    "Bits of toasty oats & cinnamon crumble 🌾<br>\n",
    "Bonus swirl: Cookie butter ripple 🧁✨ for spice and creaminess<br>\n",
    "\n",
    "#### 🎯 **Why it works**:\n",
    "Hits that sweet-salty-spicy-rich spectrum<br>\n",
    "Feels like a hybrid of baking all your favorite treats at once<br>\n",
    "Great for fall/winter cozy vibes, sleepovers, or midnight cravings<br>\n",
    "Encore-worthy texture combos: gooey, chewy, crunchy, creamy<br>\n",
    "\n",
    "It's worth noting he name **Midnight Bake** is a combination of already existing flavors *Half Baked* and *Late Night Snack*. But it does sound tasty!"
   ]
  },
  {
   "cell_type": "markdown",
   "id": "1db285da-a2f4-45c9-97c9-8371cf7b6ab3",
   "metadata": {},
   "source": [
    "### Midnight Bake Imagined\n",
    "I did want to see what the pint tub could possible look like, so I moved to Dall-E and used the prompt: \n",
    "\n",
    "🖼️ Imagined Pint Design:<br>\n",
    "🎨 Name: Midnight Bake<br>\n",
    "🎨 Theme: Cozy, indulgent, and a little mysterious — like a late-night kitchen adventure.<br>\n",
    "\n",
    "Pint Artwork Description:\n",
    "Background: Midnight blue and burnt caramel tones, with a glowing oven light and baked goods scattered on a countertop next to a messy mixing bowl.<br>\n",
    "Centerpiece: A cartoon-style brownie and blondie wearing oven mitts high-fiving while standing on a swirl of golden caramel.\n",
    "\n",
    "Details:\n",
    "Cookie crumbs scattered near the top<br>\n",
    "A cinnamon stick and whisk crossed like utensils of honor<br>\n",
    "The Ben & Jerry’s signature banner across the top<br>\n",
    "A tagline written under the name: “Brownies, blondies & late-night bliss.”<br>\n",
    "\n",
    "🍧 Scoop Description (The Ice Cream Itself):\n",
    "Imagine cracking into a pint and seeing:\n",
    "\n",
    "A light golden-brown ice cream base with visible specks (toasted brown sugar)<br>\n",
    "Rich gooey caramel swirls winding across the surface<br>\n",
    "Big, dense brownie chunks and lighter, chewy blondie dough pieces peeking through<br>\n",
    "Thin streaks of cookie butter twirling through every other bite<br>\n",
    "A delicate oat crumble layering here and there like a pie topping baked inside<br>"
   ]
  },
  {
   "cell_type": "markdown",
   "id": "a2b3d635-36e4-4e5a-bd66-3261d7f88ad9",
   "metadata": {},
   "source": [
    "It came up with this image that I also removed the background to just display the tub itself. I will say, Dall-E did make this new ice cream flavor look good!"
   ]
  },
  {
   "cell_type": "raw",
   "id": "146e4354-4250-45a3-baea-1c12991101b9",
   "metadata": {},
   "source": [
    "![Midnight Bake](benjerrybg (1).jpg) ![Midnight Bake, no background](benjerry (1).png)"
   ]
  }
 ],
 "metadata": {
  "kernelspec": {
   "display_name": "R (COMM2100)",
   "language": "R",
   "name": "r"
  },
  "language_info": {
   "codemirror_mode": "r",
   "file_extension": ".r",
   "mimetype": "text/x-r-source",
   "name": "R",
   "pygments_lexer": "r",
   "version": "4.5.1"
  }
 },
 "nbformat": 4,
 "nbformat_minor": 5
}
