{
 "cells": [
  {
   "cell_type": "raw",
   "id": "3d831741-e044-492f-be0a-6e6640e97615",
   "metadata": {},
   "source": [
    "--- \n",
    "author: \"Joy Wang\"\n",
    "title: \"Across the Quad lies a red food cart\" \n",
    "description: \"Open from 9:30 a.m. to 8:30 p.m., Rahim 'the Dream' Khan has been serving the UPenn community with a smile.\" \n",
    "date: \"25 September 2025\" \n",
    "categories: \n",
    "    - Food\n",
    "    - Around Philly\n",
    "---"
   ]
  },
  {
   "cell_type": "raw",
   "id": "79c3482e-ecea-404f-950b-716d338de465",
   "metadata": {},
   "source": [
    "![Rahim Khan](rahim.jpeg)"
   ]
  },
  {
   "cell_type": "markdown",
   "id": "9b3c9d92-b225-4b78-866f-7c84ab22eded",
   "metadata": {},
   "source": [
    "## Rahim Khan and the <span style='color:#de2323'> red cart </span>\n",
    "\n",
    "Known for his food and cheerful disposition, Rahim has been feeding students and Philadelphians alike for quite some time now. Located across the Quad on 37th and Spruce, he serves up plates piled high with rice, several kinds meats — ranging from chicken to fish, a nice side of veggies, and a choice between white sauce, red sauce, or both!"
   ]
  },
  {
   "cell_type": "raw",
   "id": "607e4e4a-b03a-4167-8841-6da4d9716ffa",
   "metadata": {},
   "source": [
    "![The $8 Chicken Platter](platter.jpeg)"
   ]
  },
  {
   "cell_type": "markdown",
   "id": "e5b50f63-601a-41c3-96dd-3f72b487f3e8",
   "metadata": {},
   "source": [
    "A further look into his menu shows a wide range of meals students can get. The portion size is massive, especially for students who are on a tight budget and have to make every dollar last. And, by doing a little bit of food math, one eight dollar plate of chicken over rice can last two meals so you're really only paying about $4! "
   ]
  },
  {
   "cell_type": "markdown",
   "id": "e27cdb36-bcfb-4a84-bc33-162498daf03b",
   "metadata": {},
   "source": [
    "#### Rice Platters\n",
    "| Type | Price | \n",
    "| :- | :-: | \n",
    "|Chicken over Rice| $8|\n",
    "|Lamb over Rice | $8 |\n",
    "|Combo over Rice | $9 | \n",
    "|Fish over Rice |$9| \n",
    "|Shrimp over Rice |$9|\n",
    "|Falafel over Rice |$8|\n",
    "|Chickpea over Rice|$8|"
   ]
  },
  {
   "cell_type": "markdown",
   "id": "a95c1dec-80df-4d47-9e79-7e2b96ba3b7c",
   "metadata": {},
   "source": [
    "#### Salads\n",
    "| Type | Price | \n",
    "| :- | :-: | \n",
    "|Chicken Salad| $8|\n",
    "|Lamb Salad | $8 |\n",
    "|Chicken and Lamb Salad | $9 | \n",
    "|Fish Salad |$9| \n",
    "|Falafel Salad |$8| "
   ]
  },
  {
   "cell_type": "markdown",
   "id": "b704c8cb-e755-4a5f-9654-38af82f3b9c4",
   "metadata": {},
   "source": [
    "The food scene and denizens of Philadelphia rely on food trucks like Rahim's <span style='color:#de2323'> Red Cart </span> across the Quad. But unfortunately, many have been pushed out by universities and policies alike. Still, I, like many others, feel incredibly lucky that carts like Kim's Oriental Foods, Bui's Lunch Truck, and the one run by an elderly couple outside of David's Rittenhouse Laboratory are here to keep us fed and happy."
   ]
  },
  {
   "cell_type": "markdown",
   "id": "5fec9dd1-c352-477d-8709-bf4fcef4f5bc",
   "metadata": {},
   "source": [
    "Read more [here](https://www.34st.com/article/2024/10/rahim-khan-food-truck-owner-halal-penn-community-pakistani-food-philadelphia) and learn about his journey as Rahim the Dream."
   ]
  }
 ],
 "metadata": {
  "kernelspec": {
   "display_name": "Python 3-12 (COMM4190)",
   "language": "python",
   "name": "python3-12_comm4190"
  },
  "language_info": {
   "codemirror_mode": {
    "name": "ipython",
    "version": 3
   },
   "file_extension": ".py",
   "mimetype": "text/x-python",
   "name": "python",
   "nbconvert_exporter": "python",
   "pygments_lexer": "ipython3",
   "version": "3.12.11"
  }
 },
 "nbformat": 4,
 "nbformat_minor": 5
}
