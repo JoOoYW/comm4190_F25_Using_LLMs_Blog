{
 "cells": [
  {
   "cell_type": "raw",
   "id": "3d831741-e044-492f-be0a-6e6640e97615",
   "metadata": {},
   "source": [
    "--- \n",
    "author: \"Joy Wang\"\n",
    "title: \"Across the Quad lies a red food cart\" \n",
    "description: \"Open from 9:30 a.m. to 8:30 p.m., Rahim 'the Dream' Khan has been serving the UPenn community with a smile.\" \n",
    "date: \"25 September 2025\" \n",
    "categories: \n",
    "    - Food\n",
    "    - Around Philly\n",
    "---"
   ]
  },
  {
   "cell_type": "raw",
   "id": "79c3482e-ecea-404f-950b-716d338de465",
   "metadata": {},
   "source": [
    "![Rahim Khan](rahim.jpeg)"
   ]
  },
  {
   "cell_type": "markdown",
   "id": "66fe2e8e-e971-4cdb-9311-cf9abd12d9aa",
   "metadata": {},
   "source": [
    "## Rahim Khan and the <span style='color:#de2323'> red cart </span>\n",
    "\n",
    "Known for his food and cheerful disposition, Rahim has been feeding students and Philadelphians alike for quite some time now. Located across the Quad on 37th and Spruce, he serves up plates piled high with rice, several kinds meats (ranging from chicken to fish), a nice side of veggies, and a choice between white sauce, red sauce, or both! Much of his items are evenly priced andby doing some math, an $8 chicken platter split into two meals means you're only paying $4 per meal."
   ]
  },
  {
   "cell_type": "raw",
   "id": "607e4e4a-b03a-4167-8841-6da4d9716ffa",
   "metadata": {},
   "source": [
    "![The $8 Chicken Platter](platter.jpeg)"
   ]
  },
  {
   "cell_type": "markdown",
   "id": "e5b50f63-601a-41c3-96dd-3f72b487f3e8",
   "metadata": {},
   "source": [
    "A further look into his menu shows a wide range of meals students can get. \n",
    "### Menu \n",
    "#### Rice Platters\n",
    "| Type | Price | \n",
    "| :- | :-: | \n",
    "|Chicken over Rice| $8|\n",
    "|Lamb over Rice | $8 |\n",
    "|Combo over Rice | $9 | \n",
    "|Fish over Rice |$9| \n",
    "|Shrimp over Rice |$9|\n",
    "|Falafel over Rice |$8|\n",
    "|Chickpea over Rice|$8|\n",
    "\n",
    "#### Salads\n",
    "| Type | Price | \n",
    "| :- | :-: | \n",
    "|Chicken Salad| $8|\n",
    "|Lamb Salad | $8 |\n",
    "|Chicken and Lamb Salad | $9 | \n",
    "|Fish Salad |$9| \n",
    "|Falafel Salad |$8| "
   ]
  },
  {
   "cell_type": "markdown",
   "id": "5fec9dd1-c352-477d-8709-bf4fcef4f5bc",
   "metadata": {},
   "source": [
    "Read more [here](https://www.34st.com/article/2024/10/rahim-khan-food-truck-owner-halal-penn-community-pakistani-food-philadelphia) and learn about his journey as Rahim the Dream."
   ]
  }
 ],
 "metadata": {
  "kernelspec": {
   "display_name": "Python 3-12 (COMM4190)",
   "language": "python",
   "name": "python3-12_comm4190"
  },
  "language_info": {
   "codemirror_mode": {
    "name": "ipython",
    "version": 3
   },
   "file_extension": ".py",
   "mimetype": "text/x-python",
   "name": "python",
   "nbconvert_exporter": "python",
   "pygments_lexer": "ipython3",
   "version": "3.12.11"
  }
 },
 "nbformat": 4,
 "nbformat_minor": 5
}
