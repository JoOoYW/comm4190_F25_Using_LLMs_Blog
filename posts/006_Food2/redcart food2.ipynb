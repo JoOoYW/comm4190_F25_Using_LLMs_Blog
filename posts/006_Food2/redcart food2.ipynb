{
 "cells": [
  {
   "cell_type": "raw",
   "id": "3d831741-e044-492f-be0a-6e6640e97615",
   "metadata": {},
   "source": [
    "--- \n",
    "author: \"Joy Wang\"\n",
    "title: \"Across from the Quad lies a red food cart\" \n",
    "description: \"Open from 9:30 a.m. to 8:30 p.m., Rahim 'the Dream' Khan has been serving the UPenn community with his food.\" \n",
    "date: \"23 September 2025\" \n",
    "categories: \n",
    "    - Food\n",
    "    - Around Philly\n",
    "---"
   ]
  },
  {
   "cell_type": "markdown",
   "id": "66fe2e8e-e971-4cdb-9311-cf9abd12d9aa",
   "metadata": {},
   "source": [
    "## Rahim and the <span style='color:#de2323'> red cart </span>\n",
    "\n",
    "Known for his food and cheerful disposition, Rahim has been feeding students and Philadelphians alike for quite some time now. Located across the Quad on 37th and Spruce, he serves up plates piled high with rice, several kinds meats (ranging from chicken to fish), a nice side of veggies, and a choice between white sauce, red sauce, or both!"
   ]
  },
  {
   "cell_type": "raw",
   "id": "607e4e4a-b03a-4167-8841-6da4d9716ffa",
   "metadata": {},
   "source": [
    "![The $8 Chicken Platter](platter.jpeg)"
   ]
  }
 ],
 "metadata": {
  "kernelspec": {
   "display_name": "Python 3-12 (COMM4190)",
   "language": "python",
   "name": "python3-12_comm4190"
  },
  "language_info": {
   "codemirror_mode": {
    "name": "ipython",
    "version": 3
   },
   "file_extension": ".py",
   "mimetype": "text/x-python",
   "name": "python",
   "nbconvert_exporter": "python",
   "pygments_lexer": "ipython3",
   "version": "3.12.11"
  }
 },
 "nbformat": 4,
 "nbformat_minor": 5
}
