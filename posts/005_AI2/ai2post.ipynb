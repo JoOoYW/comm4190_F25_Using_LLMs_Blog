{
 "cells": [
  {
   "cell_type": "raw",
   "id": "5ad7b4a9-5ab9-4b52-bcc0-a3b9a008e369",
   "metadata": {},
   "source": [
    "---\n",
    "author: \"Wang, Joy et. al\"\n",
    "title: \"Can AI reduce the mortality rate of colorectal cancer?\"\n",
    "description: \"Colorectal cancer remains the second leading cause of cancer deaths in both men and women in the United States. But can image recognizing from AI be beneficial to the majority for once?\"\n",
    "date: \"22 September 2025\"\n",
    "categories: \n",
    "    - Learning\n",
    "    - AI\n",
    "    - Medicine\n",
    "---"
   ]
  },
  {
   "cell_type": "markdown",
   "id": "a0908ded-e9b0-4e12-b9c0-4e51a0566aaf",
   "metadata": {},
   "source": [
    "## What is colorectal cancer?\n",
    "\n",
    "Colorectal cancer starts in the large intestine and the longer it is left untreated, the more in spreads until it becomes impossible to treat. Unfortunately, by the time symptoms are apparent it is too late for treatements like radiation or surgery. Still, it's been hypothesized and proposed in making use of machine learning to classify and identify cancerous tissue. "
   ]
  },
  {
   "cell_type": "markdown",
   "id": "e623761f-297e-4acb-9c18-ef04101e6874",
   "metadata": {},
   "source": [
    "## Machine Learning and Diagnosing \n",
    "\n",
    "In the summer of 2024, I and several others worked to figure out if it was possible. Using the data from the University of Jyväskylä, we trained an AI model to determine whether or not the tissue contained signs of cancer. "
   ]
  },
  {
   "cell_type": "raw",
   "id": "7ab8c426-92cb-452f-9bb2-6f516b763a66",
   "metadata": {},
   "source": [
    "![Tissue Samples](colorectal cancer.png) | ![Histogram Graph of Tissues](histogram of tissues.png)"
   ]
  },
  {
   "cell_type": "markdown",
   "id": "9b1dc556-3db3-4bbf-93fa-f190f835f2fa",
   "metadata": {},
   "source": [
    "The first round of sequencing and feature extraction resulted in an accuracy of about 0.619, or 61.9%. To really increase the power and accuracy, we sought to augment the pictures to \"create\" more data as we did not have access to any other data. The final method we used was transfer learning where the predictions output layer was changed to 8, everything but the output layer was frozen, and images were of size 150 pixels x 150 pixels. "
   ]
  },
  {
   "cell_type": "raw",
   "id": "e8601233-1c1f-4ef6-aca9-111d754ad590",
   "metadata": {},
   "source": [
    "![Augmented Image, rotation](augmented image.png) | ![Augmented Image, rotation](augmented.png)"
   ]
  },
  {
   "cell_type": "markdown",
   "id": "34f3eea6-b75b-4579-a05d-6d624aefa260",
   "metadata": {},
   "source": [
    "A confusion matrix, a table used in machine learning to evaluate the performance of a classification model provides a more detailed insight into a model's peformance. We had produced two confusion matrixes, one with the **61.9%** as stated above and the new one, after transfer learning, was **84.4%**. The accuracy in predicting eight categories of colorectal tissue grew tremendously, and this AI is capable of being integrated with other models. "
   ]
  },
  {
   "cell_type": "raw",
   "id": "b8110744-d9e2-4b70-abec-ce77636515d1",
   "metadata": {},
   "source": [
    "![Confusion matrix, initial](confusion matrix original.png) | ![Confusion matrix, most recent](last matrix.png)"
   ]
  },
  {
   "cell_type": "markdown",
   "id": "12511d60-0d75-416c-8a9e-046d1812aca8",
   "metadata": {},
   "source": [
    "However, there are pitfalls and issues with this way of testing and researching. For one, it creates biases in recognition as, without knowing for certain who the samples were taken from, the data is limited to one group. But different races and genders have symptoms specific to their group, and in the age where AI does often discriminate based on who trains them, there is a lot of room for error. In addition, there is already a distrust and dislike for AI seeping into every corners of the world, especially when it concerns the wellbeing of others and themselves. Relying on any AI to accurately determine and diagnose the cause is and will always be *incredibly dangerous without further confirmation from a human's eye.* "
   ]
  },
  {
   "cell_type": "markdown",
   "id": "78d45e35-10e4-4ffa-ac35-442da868242a",
   "metadata": {},
   "source": [
    "For further interest: [The University of Jyväskylä](https://pubmed.ncbi.nlm.nih.gov/37741820/) and our in-depth examination [Precision Medicine in Colorectal Cancer](https://drive.google.com/file/d/1nFM3iAmjqgcVNqATmWN_8Vgo4KY348u4/view?usp=sharing)"
   ]
  }
 ],
 "metadata": {
  "kernelspec": {
   "display_name": "Python 3 (ipykernel)",
   "language": "python",
   "name": "python3"
  },
  "language_info": {
   "codemirror_mode": {
    "name": "ipython",
    "version": 3
   },
   "file_extension": ".py",
   "mimetype": "text/x-python",
   "name": "python",
   "nbconvert_exporter": "python",
   "pygments_lexer": "ipython3",
   "version": "3.10.12"
  }
 },
 "nbformat": 4,
 "nbformat_minor": 5
}
