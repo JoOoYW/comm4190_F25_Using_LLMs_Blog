{
 "cells": [
  {
   "cell_type": "raw",
   "id": "5ad7b4a9-5ab9-4b52-bcc0-a3b9a008e369",
   "metadata": {},
   "source": [
    "---\n",
    "author: \"Wang, Joy et. al\"\n",
    "description: \"Colorectal cancer remains the second leading cause of cancer deaths in both men and women in the United States. But with the use of image recognizing from AI, can it prove itself beneficial to the majority for once?\"\n",
    "title: \"Can AI reduce the mortality rate of colorectal cancer?\"\n",
    "date: \"22 September 2025\"\n",
    "categories: \n",
    "    - Learning\n",
    "    - AI\n",
    "    - Medicine\n",
    "---"
   ]
  },
  {
   "cell_type": "markdown",
   "id": "fd4c41be-5a0f-4d1c-82c3-e168193135bb",
   "metadata": {},
   "source": [
    "## What is colorectal cancer?\n",
    "\n",
    "Colorectal cancer starts in the large intestine and the longer it is left untreated, the more in spreads until it becomes impossible to treat. Unfortunately, by the time symptoms are apparent it is too late for treatements like radiation or surgery. Still, it's been hypothesized and proposed in making use of machine learning to classify and identify cancerous tissue. In the summer of 2024, I and several others worked to figure out if it was possible. Using the data from The University of Jyväskylä, we trained an AI model to determine whether or not the tissue contained signs of cancer. "
   ]
  },
  {
   "cell_type": "raw",
   "id": "7ab8c426-92cb-452f-9bb2-6f516b763a66",
   "metadata": {},
   "source": [
    "![Tissue Samples](colorectal cancer.png)"
   ]
  },
  {
   "cell_type": "raw",
   "id": "72b1280e-c4ec-450e-a15b-c651763b7795",
   "metadata": {},
   "source": [
    "The first round of sequencing and feature extraction resulted in an accuracy of about 0.619, or 61.9%. To really increase the power and accuracy, we sought to augment the pictures to \"create\" more data as we did not have access to any other data. "
   ]
  },
  {
   "cell_type": "markdown",
   "id": "12511d60-0d75-416c-8a9e-046d1812aca8",
   "metadata": {},
   "source": [
    "However, there are pitfalls and issues with this way of testing and researching. For one it creates biases in recognition as different races and genders have symptoms specific to their grou[ and without knowing for certain that as many groups were used in the data, "
   ]
  }
 ],
 "metadata": {
  "kernelspec": {
   "display_name": "Python 3 (ipykernel)",
   "language": "python",
   "name": "python3"
  },
  "language_info": {
   "codemirror_mode": {
    "name": "ipython",
    "version": 3
   },
   "file_extension": ".py",
   "mimetype": "text/x-python",
   "name": "python",
   "nbconvert_exporter": "python",
   "pygments_lexer": "ipython3",
   "version": "3.10.12"
  }
 },
 "nbformat": 4,
 "nbformat_minor": 5
}
