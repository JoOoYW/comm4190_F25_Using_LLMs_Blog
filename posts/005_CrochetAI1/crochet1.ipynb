{
 "cells": [
  {
   "cell_type": "raw",
   "id": "f9994d4a-bbff-4b3b-a142-41377c51c0d8",
   "metadata": {},
   "source": [
    "--- \n",
    "author: \"Joy Wang\" \n",
    "title: \"AI in replicating human made designs and patterns\"\n",
    "description: \"Although chatbots like ChatGPT have improved since their initial stages, they still lack the creativity and knowledge in creating new directions for certain activities.\"\n",
    "date: \"30 September, 2025\"\n",
    "categories: \n",
    "    - Chatbots\n",
    "    - Hobbies\n",
    "    - Crocheting\n",
    "---"
   ]
  },
  {
   "cell_type": "markdown",
   "id": "8e75a7ff-c3d0-4a92-8334-f04331849af3",
   "metadata": {},
   "source": [
    "## Crocheting \n",
    "\n",
    "To test them, I wanted to explore their expertise on crocheting! Crocheting is defined as the [\"process of creating textiles by using a crochet hook to interlock loops of yarn, thread, or strands of other materials\"](https://sarahmaker.com/what-is-crochet/) and is derived from the French word 'crochet' meaning hook. There are many techniques and steps to follow before a project, or design, can come to fruition. But the question still stands, can ChatGPT, or any chatbot really, give an answer that makes something decent? Chatbots are known to give information that needs to be double checked in some way, shape, or form before trusting it completely. So, what better way to test a chatbot's correctness than to make a decoration just in time for Halloween!"
   ]
  },
  {
   "cell_type": "raw",
   "id": "3333f700-8969-4dbc-bd70-21435a5ebd32",
   "metadata": {},
   "source": [
    "![Storyland Amis Black Kitty Cat](kitty cat.png)"
   ]
  },
  {
   "cell_type": "markdown",
   "id": "17d004eb-24cc-4d0b-ac46-18e4020573ee",
   "metadata": {
    "jp-MarkdownHeadingCollapsed": true
   },
   "source": [
    "I gave openAI's ChatGPT a single task, \"<u>give me a set of instructions to crochet a small black cat plushie for my witch costume</u>\". It produced this: "
   ]
  },
  {
   "cell_type": "markdown",
   "id": "1f1f3d0d-45ff-444f-b5f3-5c58167726b5",
   "metadata": {},
   "source": [
    "## 🧶 Crochet Pattern: Mini Black Cat Plushie\n",
    "Skill level: Advanced beginner (basic stitches, working in the round)<br>\n",
    "Yarn: Black worsted-weight<br>\n",
    "Hook: 3.5–4 mm (E–G)<br>\n",
    "Other: Safety eyes (6–8 mm) or felt, stuffing, yarn needle, pink yarn/embroidery thread for nose, optional pipe cleaner for tail stiffness\n",
    "\n",
    "#### Abbreviations\n",
    "1. MR = Magic Ring\n",
    "2. sc = single crochet\n",
    "3. inc = increase (2 sc in one stitch)\n",
    "4. dec = decrease (sc 2 stitches together)\n",
    "5. st(s) = stitch(es)\n",
    "6. FO = fasten off\n",
    "7. Body (worked in round, stuffed as you go)\n",
    "8. MR, 6 sc (6)\n",
    "9. inc around (12)\n",
    "10. (sc, inc) around (18)\n",
    "11. (2 sc, inc) around (24)\n",
    "12. 5–10. sc around (24)\n",
    "13. (2 sc, dec) around (18)\n",
    "14. (sc, dec) around (12)\n",
    "15. dec around (6)\n",
    "16. FO, sew closed.\n",
    "\n",
    "#### Head\n",
    "1. MR, 6 sc (6)\n",
    "2. inc around (12)\n",
    "3. (sc, inc) around (18)\n",
    "4. (2 sc, inc) around (24)\n",
    "5. 5–9. sc around (24)\n",
    "6. (2 sc, dec) around (18)\n",
    "7. (sc, dec) around (12)\n",
    "8. Add safety eyes between rows 6–7, about 5 stitches apart.\n",
    "9. dec around (6)\n",
    "10. FO, sew closed.\n",
    "11. Ears (make 2)\n",
    "12. MR, 4 sc (4)\n",
    "13. (sc, inc) twice (6)\n",
    "14. sc around (6)\n",
    "15. FO, leave tail for sewing.\n",
    "\n",
    "#### Tail\n",
    "1. MR, 6 sc (6)\n",
    "2. 2–10. sc around (6)\n",
    "3. Stuff lightly or slide in pipe cleaner.\n",
    "4. FO, sew closed.\n",
    "\n",
    "#### Legs (make 4)\n",
    "1. MR, 6 sc (6)\n",
    "2. (sc, inc) around (9)\n",
    "3. 3–5. sc around (9)\n",
    "4. FO, stuff lightly.\n",
    "\n",
    "#### Assembly\n",
    "Sew head to body. <br>\n",
    "Attach ears on top of head.<br>\n",
    "Sew legs to bottom sides of body.<br>\n",
    "Attach tail to back.<br>\n",
    "Embroider a tiny pink triangle nose + whiskers with white thread (optional).<br>\n",
    "\n",
    "#### 🎀 Optional Witchy Upgrades\n",
    "Tiny felt witch hat glued on top.<br>\n",
    "Purple ribbon collar with a little bell.<br>\n",
    "Glow-in-the-dark yarn for eyes if you’re extra spooky.<br>"
   ]
  },
  {
   "cell_type": "markdown",
   "id": "41557273-1905-492c-8ab5-76cf883cb598",
   "metadata": {},
   "source": [
    "## Conclusion \n",
    "\n",
    "To compare, I created another small black cat plushie from [Storyland Amis](https://storylandamis.blog/free-cat-crochet-pattern-amigurumi-tutorial/). The results from both direction sets can be seen here:"
   ]
  }
 ],
 "metadata": {
  "kernelspec": {
   "display_name": "Python 3-12 (COMM4190)",
   "language": "python",
   "name": "python3-12_comm4190"
  },
  "language_info": {
   "codemirror_mode": {
    "name": "ipython",
    "version": 3
   },
   "file_extension": ".py",
   "mimetype": "text/x-python",
   "name": "python",
   "nbconvert_exporter": "python",
   "pygments_lexer": "ipython3",
   "version": "3.12.11"
  }
 },
 "nbformat": 4,
 "nbformat_minor": 5
}
