{
 "cells": [
  {
   "cell_type": "raw",
   "id": "c323d52d-7f52-448e-96b6-d90627a2966e",
   "metadata": {},
   "source": [
    "---\n",
    "author: \"Joy Wang\"\n",
    "description: \"How UPenn students benefit from AI in the math hemisphere.\"\n",
    "title: \"Professor G's Great GPT\"\n",
    "date: \"10 September 2025\"\n",
    "categories: \n",
    "    - Learning\n",
    "    - AI\n",
    "    - LLMs\n",
    "    - Math\n",
    "---"
   ]
  },
  {
   "cell_type": "markdown",
   "id": "f474cbb8-ad15-497e-b46e-94994b8f46ad",
   "metadata": {},
   "source": [
    "## How does Professor G's CalcBlue GPT work?"
   ]
  },
  {
   "cell_type": "markdown",
   "id": "ceb4a6cd-d8d7-4f4c-8fee-9b813d769f17",
   "metadata": {},
   "source": [
    "### Professor G, or Professor Robert Ghrist, has given students of MATH 1410 a GPT to help with their understanding \n",
    "\n",
    "Based on his book with the same title, Prof G fed ChatGPT every problem and lesson plan covered for the semester. For those taking MATH 1400 or MATH 1410, Calc Star Green/Blue has proven incredibly useful and helpful. "
   ]
  },
  {
   "cell_type": "raw",
   "id": "604053f2-f670-4d07-b823-9b6a2573c541",
   "metadata": {},
   "source": [
    "![Calculus Blue, the book](calcblue.jpg)"
   ]
  },
  {
   "cell_type": "markdown",
   "id": "fb64b010-3f2d-4c56-98b0-4259044b7a1b",
   "metadata": {},
   "source": [
    "The commands available include /intro, /ex, /score, and /test. Calling them is fairly intuitive with most of their names describing their purposes, while some like /score may not be easily understood. /score is when the user wants their test to be rated by an emoji or /go for a week's specific material. "
   ]
  },
  {
   "cell_type": "raw",
   "id": "c2c8fdd5-97df-44be-893a-050e2d505f95",
   "metadata": {},
   "source": [
    "![Calc Star Blue, the GPT](calcstarblue.png)"
   ]
  },
  {
   "cell_type": "markdown",
   "id": "bb80f532-347a-4fa3-ad64-5f087f73d969",
   "metadata": {},
   "source": [
    "However as of September 14, when prompted to give information about Week Four, it limits itself to four of the nine learning objectives. It decided Week 4 was \"all about determinants as volume-scaling factors\". When asked about the rest of the learning objectives, it corrected itself and revised the response it gave to my original question for help. It now covered topics like orthogonal and orthonormal bases, linear transformations as matrices, and minor expansion in computing determinants."
   ]
  },
  {
   "cell_type": "raw",
   "id": "0ca56101-b75e-4428-8453-8683f494a872",
   "metadata": {},
   "source": [
    "![Revision of response](revise.jpeg)"
   ]
  }
 ],
 "metadata": {
  "kernelspec": {
   "display_name": "Python 3-12 (COMM4190)",
   "language": "python",
   "name": "python3-12_comm4190"
  },
  "language_info": {
   "codemirror_mode": {
    "name": "ipython",
    "version": 3
   },
   "file_extension": ".py",
   "mimetype": "text/x-python",
   "name": "python",
   "nbconvert_exporter": "python",
   "pygments_lexer": "ipython3",
   "version": "3.12.11"
  }
 },
 "nbformat": 4,
 "nbformat_minor": 5
}
