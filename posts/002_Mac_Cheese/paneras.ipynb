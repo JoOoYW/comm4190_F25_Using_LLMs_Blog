{
 "cells": [
  {
   "cell_type": "raw",
   "id": "bc9a3720-ba41-45a9-9161-4c5b2ea1b336",
   "metadata": {},
   "source": [
    "---\n",
    "title: \"Panera's Mac and Cheese\" \n",
    "description: \"Rating it 1-10\"\n",
    "author: \"Joy\"\n",
    "date: \"3 September 2025\"\n",
    "categories: \n",
    "    - Learning\n",
    "    - Foodie\n",
    "---"
   ]
  },
  {
   "cell_type": "markdown",
   "id": "1e5547ca-5179-4d71-b8cc-45e0e263ea44",
   "metadata": {},
   "source": []
  },
  {
   "cell_type": "raw",
   "id": "4b320cb4-6634-41ef-a32d-6665c573904e",
   "metadata": {},
   "source": [
    "![Panera\\'s Mac and Cheese Bread Bowl](panera_mac_cheese.jpg)"
   ]
  }
 ],
 "metadata": {
  "kernelspec": {
   "display_name": "Python 3-12 (COMM4190)",
   "language": "python",
   "name": "python3-12_comm4190"
  },
  "language_info": {
   "codemirror_mode": {
    "name": "ipython",
    "version": 3
   },
   "file_extension": ".py",
   "mimetype": "text/x-python",
   "name": "python",
   "nbconvert_exporter": "python",
   "pygments_lexer": "ipython3",
   "version": "3.12.11"
  }
 },
 "nbformat": 4,
 "nbformat_minor": 5
}
