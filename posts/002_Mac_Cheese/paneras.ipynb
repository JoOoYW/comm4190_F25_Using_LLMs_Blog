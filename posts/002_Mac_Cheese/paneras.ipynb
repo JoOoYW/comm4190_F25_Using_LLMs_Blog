{
 "cells": [
  {
   "cell_type": "raw",
   "id": "bc9a3720-ba41-45a9-9161-4c5b2ea1b336",
   "metadata": {},
   "source": [
    "---\n",
    "title: \"Panera's Mac and Cheese\" \n",
    "description: \"Rating it 1-10\"\n",
    "author: \"Joy\"\n",
    "date: \"3 September 2025\"\n",
    "categories: \n",
    "    - Learning\n",
    "    - Foodie\n",
    "---"
   ]
  },
  {
   "cell_type": "markdown",
   "id": "3dde8a9f-e5d2-451a-9dd1-02c033c6f4dd",
   "metadata": {},
   "source": [
    "## Trying Panera's very popular mac and cheese in a bread bowl!\n",
    "\n",
    "* Welcome to foodie rating, where I go around and try out all kinds of food\n",
    "\n",
    "First up, a popular chain that began in 1987 as St. Louis Bread Company, a humble community bakery founded with a sourdough starter from San Francisco and a dream of putting a loaf of bread in every arm. Now, it operates as both Panera Bread® or Saint Louis Bread Co St. Louis Bread Company in 48 states, the District of Columbia and Canada!"
   ]
  },
  {
   "cell_type": "raw",
   "id": "4b320cb4-6634-41ef-a32d-6665c573904e",
   "metadata": {},
   "source": [
    "![Panera\\'s Mac and Cheese Bread Bowl](panera_mac_cheese.jpg)"
   ]
  }
 ],
 "metadata": {
  "kernelspec": {
   "display_name": "Python 3-12 (COMM4190)",
   "language": "python",
   "name": "python3-12_comm4190"
  },
  "language_info": {
   "codemirror_mode": {
    "name": "ipython",
    "version": 3
   },
   "file_extension": ".py",
   "mimetype": "text/x-python",
   "name": "python",
   "nbconvert_exporter": "python",
   "pygments_lexer": "ipython3",
   "version": "3.12.11"
  }
 },
 "nbformat": 4,
 "nbformat_minor": 5
}
