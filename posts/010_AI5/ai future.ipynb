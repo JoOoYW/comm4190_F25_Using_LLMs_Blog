{
 "cells": [
  {
   "cell_type": "raw",
   "id": "1e616978-fb52-43aa-b98f-c8d1a5d3bf57",
   "metadata": {},
   "source": [
    "---\n",
    "author: \"Joy Wang\" \n",
    "title: \"What will be the future of AI?\"\n",
    "description: \"I wonder what AI thinks about the future of their kind.\"\n",
    "date: \"27 October 2025\"\n",
    "categories: \n",
    "    - Learning \n",
    "    - Chatbots\n",
    "---"
   ]
  },
  {
   "cell_type": "markdown",
   "id": "006e4d28-2bc1-477d-9a5e-56ce594efb76",
   "metadata": {},
   "source": [
    " While I wish for them to be intergrated into areas like healthcare, it seems that it might take quite a long time before this happens"
   ]
  },
  {
   "cell_type": "raw",
   "id": "ca68cb1c-8e7c-4c84-b9a7-575a9f32ec44",
   "metadata": {},
   "source": [
    "![In the far future](robot.png)"
   ]
  }
 ],
 "metadata": {
  "kernelspec": {
   "display_name": "Python 3-12 (COMM4190)",
   "language": "python",
   "name": "python3-12_comm4190"
  },
  "language_info": {
   "codemirror_mode": {
    "name": "ipython",
    "version": 3
   },
   "file_extension": ".py",
   "mimetype": "text/x-python",
   "name": "python",
   "nbconvert_exporter": "python",
   "pygments_lexer": "ipython3",
   "version": "3.12.12"
  }
 },
 "nbformat": 4,
 "nbformat_minor": 5
}
